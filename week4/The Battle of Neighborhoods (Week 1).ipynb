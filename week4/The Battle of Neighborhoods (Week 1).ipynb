{
 "cells": [
  {
   "cell_type": "markdown",
   "metadata": {},
   "source": [
    "# Coursera Capstone Project"
   ]
  },
  {
   "cell_type": "markdown",
   "metadata": {},
   "source": [
    "## The Battle of Neighborhoods (Week 1)"
   ]
  },
  {
   "cell_type": "markdown",
   "metadata": {},
   "source": [
    "https://github.com/Pandris/Coursera_Capstone"
   ]
  },
  {
   "cell_type": "markdown",
   "metadata": {},
   "source": [
    "### 1. A description of the problem and a discussion of the background."
   ]
  },
  {
   "cell_type": "markdown",
   "metadata": {},
   "source": [
    "__Introduction:__"
   ]
  },
  {
   "cell_type": "markdown",
   "metadata": {},
   "source": [
    "Thank's Coursera, I could finish my Data Science Course and I got a job in Toronto as a Data Scientist. The company offers me 60.000 CAD, along a simply online calculator I could get 45.000 CAD as net pay (after paying taxes). It sounds good and it means, I would earn 3750 CAD a month. Some experts say, you have to pay max. 1/3 of your net income for your renting, it means I could move into a flat, which renting price is max. 1250. Because I have to move move to Toronto, I should find the best location where I can live, paying my flat, going out or shopping etc. I'd like to feel myself as home, that's why I will looking a neighbourhood, which is quit similar to the place, where I live now. The criteries are:\n",
    "- Max renting price is 1250 CAD/month for a flat with minimum 1 bedrooms (if there are two bedrooms for that price, it would be also OK).\n",
    "- In that area should be some shopping centers, food stores etc. where I can buy my stuffs for living.\n",
    "- With my friends I'd like to going out, but I don't want to travel a lot for a bar or pub.\n",
    "- In summer I like to chill in a park, that's why I'd like to have a park nearby\n",
    "- It should be as close as possible to a subway station.\n"
   ]
  },
  {
   "cell_type": "markdown",
   "metadata": {},
   "source": [
    "__Business Problem:__"
   ]
  },
  {
   "cell_type": "markdown",
   "metadata": {},
   "source": [
    "The goal is to find the best area in Toronto city, which is similar as my place at home. The model should find the area, where I can rent a flat for max. 1250 CAD, and with the most of opportunity to shopping, to going out and as close as possible to a subway station."
   ]
  },
  {
   "cell_type": "markdown",
   "metadata": {},
   "source": [
    "### 2. A description of the data and how it will be used to solve the problem."
   ]
  },
  {
   "cell_type": "markdown",
   "metadata": {},
   "source": [
    "For the soultion I would use the following websites/data/API:\n",
    "\n",
    "1. You can find the average renting prices based on neighbourhoods in Toronto on that website: https://www03.cmhc-schl.gc.ca/hmip-pimh/en/TableMapChart/Table?TableId=2.2.11&GeographyId=2270&GeographyTypeId=3&DisplayAs=Table&GeograghyName=Toronto \n",
    "2. For the location data I will use the geopy and folium package and the Foursquare API\n",
    "3. a csv sheet about the subway lines and stations are available on this page: http://scruss.com/blog/2005/12/14/toronto-subway-station-gps-locations/ \n",
    "\n",
    "With the first page you can download the daverage renting prices in csv format with an indicator of the reliability of the estimates. This will be the first filter of my data, because I can't pay more than 1250 CAD a month.\n",
    "\n",
    "With Foursquare I will collect some informations about the neighbourhoods: how many shopping centers, pubs, parks etc are in the area. I will choose the district with the highest diversity and hopefully there are some subway stations too."
   ]
  }
 ],
 "metadata": {
  "kernelspec": {
   "display_name": "Python 3",
   "language": "python",
   "name": "python3"
  },
  "language_info": {
   "codemirror_mode": {
    "name": "ipython",
    "version": 3
   },
   "file_extension": ".py",
   "mimetype": "text/x-python",
   "name": "python",
   "nbconvert_exporter": "python",
   "pygments_lexer": "ipython3",
   "version": "3.6.8"
  }
 },
 "nbformat": 4,
 "nbformat_minor": 2
}
